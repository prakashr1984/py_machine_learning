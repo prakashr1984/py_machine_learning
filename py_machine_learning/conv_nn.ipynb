{
 "cells": [
  {
   "cell_type": "code",
   "execution_count": 3,
   "metadata": {
    "collapsed": false
   },
   "outputs": [],
   "source": [
    "import sys, os\n",
    "import theano\n",
    "import theano.tensor as T\n",
    "import numpy as np\n",
    "import pandas as pd\n",
    "import lasagne\n",
    "from sklearn import cross_validation, metrics\n"
   ]
  },
  {
   "cell_type": "code",
   "execution_count": 4,
   "metadata": {
    "collapsed": true
   },
   "outputs": [],
   "source": [
    "#Load the training set and do normalization and re-shaping \n",
    "train = pd.read_csv('train.csv').dropna().values\n",
    "tr_X = train[:,1:].reshape(-1,1,28,28).astype(theano.config.floatX)\n",
    "tr_X = tr_X/255\n",
    "ty_Y = train[:,0]"
   ]
  },
  {
   "cell_type": "code",
   "execution_count": 6,
   "metadata": {
    "collapsed": true
   },
   "outputs": [],
   "source": [
    "#Split the training data into training and validation sets \n",
    "X_train,X_val,y_train,y_val = cross_validation.train_test_split(tr_X,ty_Y, test_size=0.1)\n"
   ]
  },
  {
   "cell_type": "code",
   "execution_count": 19,
   "metadata": {
    "collapsed": true
   },
   "outputs": [],
   "source": [
    "# Convolution Neural Network Model\n",
    "# Build the convolutional network model \n",
    "#   Input           -> 1 x 28 x 28\n",
    "#   Conv2D          -> 32 x 5 x 5\n",
    "#   maxPool2D       -> 2x2\n",
    "#   Dropout         -> p = 0.5\n",
    "#   Conv2D          -> 32 x 5 x 5\n",
    "#   maxPool2D       -> 2x2\n",
    "#   Dropout         -> p = 0.5\n",
    "#   Full Connected  -> 1024\n",
    "#   Full Connected  -> 256\n",
    "#   Full Connected  -> 10 (softmax)\n",
    "#\n",
    "#   cost function : categorical cross entropy\n",
    "#   regularization: l2\n",
    "\n",
    "def model():\n",
    "\n",
    "    X = T.tensor4('X')\n",
    "    y = T.ivector('y')\n",
    "\n",
    "    net = lasagne.layers.InputLayer(shape=(None,1,28,28), input_var=X)\n",
    "    net = lasagne.layers.Conv2DLayer(net, num_filters=32, filter_size=(5,5), nonlinearity = lasagne.nonlinearities.rectify,W=lasagne.init.GlorotUniform())\n",
    "    net = lasagne.layers.MaxPool2DLayer(net, pool_size=(2,2))\n",
    "    net = lasagne.layers.Conv2DLayer(lasagne.layers.DropoutLayer(net), num_filters=32, filter_size=(5,5), nonlinearity = lasagne.nonlinearities.rectify,W=lasagne.init.GlorotUniform())\n",
    "    net = lasagne.layers.MaxPool2DLayer(net, pool_size=(2,2))\n",
    "    net = lasagne.layers.DenseLayer(lasagne.layers.DropoutLayer(net), num_units=1024, nonlinearity = lasagne.nonlinearities.rectify)\n",
    "    net = lasagne.layers.DenseLayer(net, num_units=256, nonlinearity = lasagne.nonlinearities.rectify)\n",
    "    net = lasagne.layers.DenseLayer(net, num_units=10, nonlinearity = lasagne.nonlinearities.softmax)\n",
    "\n",
    "    params = lasagne.layers.get_all_params(net, trainable=True)\n",
    "    prediction = lasagne.layers.get_output(net)\n",
    "    cost = lasagne.objectives.categorical_crossentropy(prediction,y)\n",
    "    cost = cost.mean()\n",
    "\n",
    "    updates = lasagne.updates.adagrad(cost,params, learning_rate=0.01)\n",
    "    \n",
    "\n",
    "    true_pred = lasagne.layers.get_output(net, deterministic=True)\n",
    "    y_pred = T.argmax(true_pred, axis = 1)\n",
    "\n",
    "    train = theano.function([X,y], [cost,prediction], updates = updates, allow_input_downcast=True)\n",
    "    predict= theano.function([X], y_pred, allow_input_downcast=True)\n",
    "    return train,predict"
   ]
  },
  {
   "cell_type": "code",
   "execution_count": 20,
   "metadata": {
    "collapsed": true
   },
   "outputs": [],
   "source": [
    "#Helper function to iterate over mini batches\n",
    "def batch(X,y,n=128, randomize=True):\n",
    "    l = len(X)\n",
    "    if randomize:\n",
    "        perm = np.random.permutation(l)\n",
    "        Xrand = X[perm]\n",
    "        yrand = y[perm]\n",
    "    else:\n",
    "        Xrand = X\n",
    "        yrand = y\n",
    "    for i in range(0,l,n):\n",
    "        yield Xrand[i:min(i+n,l)],yrand[i:min(i+n,l)]\n",
    "\n"
   ]
  },
  {
   "cell_type": "code",
   "execution_count": 21,
   "metadata": {
    "collapsed": false
   },
   "outputs": [],
   "source": [
    "#create the network\n",
    "fit,predict = model()\n"
   ]
  },
  {
   "cell_type": "code",
   "execution_count": 36,
   "metadata": {
    "collapsed": false
   },
   "outputs": [
    {
     "name": "stdout",
     "output_type": "stream",
     "text": [
      "0 0.00165545730852 1 0.0029792143032 2 0.00696317432448 3 0.000286816153675 4 0.00751735363156 5 0.002448995132 6 0.00530381640419 7 0.00403619091958 8 0.00164288445376 9 0.00237629073672 10 0.00166937662289 11 0.00155769917183 12 0.0122303254902 13 0.00578951276839 14 0.00305026816204 15 0.0300751198083 16 0.00993761327118 17 0.00151582737453 18 0.00125568313524 19 0.00725556723773 20 0.0174901075661 21 0.0180223416537 22 0.000814012193587 23 0.0033499461133 24 0.00398892955855 25 0.00144663790707 26 0.00152658030856 27 0.0425674766302 28 0.0102258082479 29 0.0018127564108 30 0.000755835149903 31 0.00456942431629 32 0.00314804422669 33 0.0249033384025 34 0.00119537930004 35 0.00245238281786 36 0.000161521922564 37 0.0120999542996 38 0.00182112539187 39 0.000555641890969 40 0.0217830613256 41 0.000875626225024 42 0.0151101183146 43 0.000738968024962 44 0.00464019179344 45 0.000326958775986 46 0.0020466952119 47 0.0027880910784 48 0.00334097701125 49 0.00112884491682 50 0.00240959180519 51 0.00168355554342 52 0.00139913149178 53 0.0239997431636 54 0.0159811321646 55 0.00519364466891 56 0.000733330554795 57 0.00188241119031 58 0.00304310023785 59 0.0171935874969 60 0.00612674234435 61 0.0041862973012 62 0.0083272177726 63 0.00771568296477 64 0.000319155748002 65 0.0385735370219 66 0.0146456565708 67 0.000419762975071 68 0.00237795780413 69 0.000374468858354 70 0.000421009579441 71 0.021965207532 72 0.0150345852599 73 0.0228165779263 74 0.00583461206406 75 6.00338462391e-05 76 0.0238953456283 77 0.00808524899185 78 0.000758914102335 79 0.0402861833572 80 0.0125466929749 81 0.00346174486913 82 0.000275948084891 83 0.0175020284951 84 0.003955620341 85 0.000528019794729 86 0.000777192530222 87 0.000504593190271 88 0.00633555930108 89 0.00311483698897 90 0.0041611851193 91 0.00131924892776 92 0.000301728607155 93 0.000659986224491 94 0.00507361441851 95 0.0240487139672 96 0.0167206656188 97 0.00823573116213 98 0.001636623987 99 0.000185455312021\n"
     ]
    }
   ],
   "source": [
    "\n",
    "#training\n",
    "for i in range(100):\n",
    "    for X_batch,y_batch in batch(X_train,y_train, n=256):\n",
    "        cost,pred = fit(X_batch,y_batch)\n",
    "    #print 'Epoch {0}/{1} : cost : {2}'.format(i,100,cost)\n",
    "    print i,cost,\n",
    "    sys.stdout.flush()"
   ]
  },
  {
   "cell_type": "code",
   "execution_count": 37,
   "metadata": {
    "collapsed": false
   },
   "outputs": [
    {
     "data": {
      "text/plain": [
       "0.99261904761904762"
      ]
     },
     "execution_count": 37,
     "metadata": {},
     "output_type": "execute_result"
    }
   ],
   "source": [
    "metrics.accuracy_score(y_val, predict(X_val))"
   ]
  },
  {
   "cell_type": "code",
   "execution_count": 38,
   "metadata": {
    "collapsed": true
   },
   "outputs": [],
   "source": [
    "#prediction (In batches)\n",
    "test = pd.read_csv('test.csv').dropna().values\n",
    "test = test.reshape(-1,1,28,28).astype(theano.config.floatX)\n",
    "test = test/255\n",
    "np.savetxt('submission.csv', np.c_[np.arange(1,len(test) + 1),predict(test)], header = 'ImageId,Label', delimiter=',', comments = '', fmt='%d')"
   ]
  },
  {
   "cell_type": "code",
   "execution_count": null,
   "metadata": {
    "collapsed": true
   },
   "outputs": [],
   "source": []
  },
  {
   "cell_type": "code",
   "execution_count": 2,
   "metadata": {
    "collapsed": false
   },
   "outputs": [
    {
     "name": "stdout",
     "output_type": "stream",
     "text": [
      "[GpuElemwise{exp,no_inplace}(<CudaNdarrayType(float32, vector)>), HostFromGpu(GpuElemwise{exp,no_inplace}.0)]\n",
      "Looping 1000 times took 0.788831 seconds\n",
      "Result is [ 1.23178029  1.61879349  1.52278066 ...,  2.20771813  2.29967761\n",
      "  1.62323296]\n",
      "Used the gpu\n"
     ]
    }
   ],
   "source": [
    "from theano import function, config, shared, sandbox\n",
    "import theano.tensor as T\n",
    "import numpy\n",
    "import time\n",
    "\n",
    "vlen = 10 * 30 * 768  # 10 x #cores x # threads per core\n",
    "iters = 1000\n",
    "\n",
    "rng = numpy.random.RandomState(22)\n",
    "x = shared(numpy.asarray(rng.rand(vlen), config.floatX))\n",
    "f = function([], T.exp(x))\n",
    "print(f.maker.fgraph.toposort())\n",
    "t0 = time.time()\n",
    "for i in range(iters):\n",
    "    r = f()\n",
    "t1 = time.time()\n",
    "print(\"Looping %d times took %f seconds\" % (iters, t1 - t0))\n",
    "print(\"Result is %s\" % (r,))\n",
    "if numpy.any([isinstance(x.op, T.Elemwise) for x in f.maker.fgraph.toposort()]):\n",
    "    print('Used the cpu')\n",
    "else:\n",
    "    print('Used the gpu')"
   ]
  }
 ],
 "metadata": {
  "kernelspec": {
   "display_name": "Python 2",
   "language": "python",
   "name": "python2"
  },
  "language_info": {
   "codemirror_mode": {
    "name": "ipython",
    "version": 2
   },
   "file_extension": ".py",
   "mimetype": "text/x-python",
   "name": "python",
   "nbconvert_exporter": "python",
   "pygments_lexer": "ipython2",
   "version": "2.7.11"
  }
 },
 "nbformat": 4,
 "nbformat_minor": 0
}
