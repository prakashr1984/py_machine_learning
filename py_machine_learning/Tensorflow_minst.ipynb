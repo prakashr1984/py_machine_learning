{
 "cells": [
  {
   "cell_type": "code",
   "execution_count": 2,
   "metadata": {
    "collapsed": true
   },
   "outputs": [],
   "source": [
    "import tensorflow as tf\n",
    "import numpy as np\n",
    "from tensorflow.examples.tutorials.mnist import input_data\n",
    "import matplotlib.pyplot as plt\n",
    "%matplotlib inline"
   ]
  },
  {
   "cell_type": "code",
   "execution_count": 3,
   "metadata": {},
   "outputs": [
    {
     "name": "stdout",
     "output_type": "stream",
     "text": [
      "Extracting /tmp/data\\train-images-idx3-ubyte.gz\n",
      "Extracting /tmp/data\\train-labels-idx1-ubyte.gz\n",
      "Extracting /tmp/data\\t10k-images-idx3-ubyte.gz\n",
      "Extracting /tmp/data\\t10k-labels-idx1-ubyte.gz\n"
     ]
    }
   ],
   "source": [
    "mnist = input_data.read_data_sets('/tmp/data', one_hot=True)"
   ]
  },
  {
   "cell_type": "code",
   "execution_count": 4,
   "metadata": {},
   "outputs": [
    {
     "name": "stdout",
     "output_type": "stream",
     "text": [
      "3\n"
     ]
    },
    {
     "data": {
      "image/png": "[encoded data removed]",
      "text/plain": [
       "<matplotlib.figure.Figure at 0x1fd76b69438>"
      ]
     },
     "metadata": {},
     "output_type": "display_data"
    }
   ],
   "source": [
    "i = np.reshape(mnist.train.images[1], [28,28])\n",
    "plt.imshow(i, cmap=plt.cm.gray)\n",
    "print(np.argmax(mnist.train.labels[1]))"
   ]
  },
  {
   "cell_type": "code",
   "execution_count": 5,
   "metadata": {
    "collapsed": true
   },
   "outputs": [],
   "source": [
    "def hidden_layer(X,W,b):\n",
    "    return tf.nn.relu(tf.matmul(X,W) + b)\n",
    "\n",
    "def output_layer(X,W,b):\n",
    "    return tf.matmul(X, W) + b\n",
    "\n",
    "def variables(n_input, n_out):\n",
    "    return tf.Variable(tf.random_normal([n_input,n_out])), tf.Variable(tf.random_normal([n_out]))\n"
   ]
  },
  {
   "cell_type": "code",
   "execution_count": 6,
   "metadata": {
    "collapsed": true
   },
   "outputs": [],
   "source": [
    "def model(X,y):\n",
    "    \n",
    "    \n",
    "    with tf.name_scope('h1'):\n",
    "        W1, b1 = variables(784, 500)\n",
    "    with tf.name_scope('h2'):\n",
    "        W2, b2 = variables(500, 500)\n",
    "    with tf.name_scope('out'):\n",
    "        W3, b3 = variables(500, 10)\n",
    "    \n",
    "    l1 = hidden_layer(X, W1, b1)\n",
    "    l2 = hidden_layer(l1, W2, b2)\n",
    "    out = output_layer(l2, W3, b3)\n",
    "    pred = tf.argmax(out, 1)\n",
    "    \n",
    "    loss = tf.reduce_mean(tf.nn.softmax_cross_entropy_with_logits(logits=out, labels=y))\n",
    "    \n",
    "    tf.summary.scalar('loss', loss)\n",
    "    \n",
    "    global_step = tf.Variable(0, name='global_step', trainable=False)\n",
    "    train = tf.train.AdamOptimizer(0.01).minimize(loss, global_step=global_step)\n",
    "    \n",
    "    correct_pred = tf.equal(pred, tf.argmax(y, 1))\n",
    "    accuracy = tf.reduce_mean(tf.cast(correct_pred, 'float'))\n",
    "    tf.summary.scalar('accuracy', accuracy)\n",
    "    \n",
    "    return train, pred, out, loss, accuracy\n"
   ]
  },
  {
   "cell_type": "code",
   "execution_count": 7,
   "metadata": {},
   "outputs": [
    {
     "name": "stdout",
     "output_type": "stream",
     "text": [
      "Epoch 0/1000 : loss: 2975.2 Val Accuracy: 0.1312 Test Accuracy: 0.1241\n",
      "Epoch 100/1000 : loss: 103.217 Val Accuracy: 0.905 Test Accuracy: 0.9008\n",
      "Epoch 200/1000 : loss: 60.8286 Val Accuracy: 0.9184 Test Accuracy: 0.9162\n",
      "Epoch 300/1000 : loss: 100.308 Val Accuracy: 0.9258 Test Accuracy: 0.9266\n",
      "Epoch 400/1000 : loss: 76.2198 Val Accuracy: 0.9314 Test Accuracy: 0.9221\n",
      "Epoch 500/1000 : loss: 11.0973 Val Accuracy: 0.9462 Test Accuracy: 0.9389\n",
      "Epoch 600/1000 : loss: 32.8495 Val Accuracy: 0.9496 Test Accuracy: 0.9421\n",
      "Epoch 700/1000 : loss: 1.36773 Val Accuracy: 0.9514 Test Accuracy: 0.9485\n",
      "Epoch 800/1000 : loss: 30.9328 Val Accuracy: 0.9444 Test Accuracy: 0.9403\n",
      "Epoch 900/1000 : loss: 16.3806 Val Accuracy: 0.9526 Test Accuracy: 0.9459\n",
      "Epoch 1000/1000 : loss: 14.2574 Val Accuracy: 0.9484 Test Accuracy: 0.9483\n",
      "Epoch 1100/1000 : loss: 18.713 Val Accuracy: 0.9502 Test Accuracy: 0.9486\n",
      "Epoch 1200/1000 : loss: 8.53087 Val Accuracy: 0.952 Test Accuracy: 0.9507\n",
      "Epoch 1300/1000 : loss: 0.0 Val Accuracy: 0.9544 Test Accuracy: 0.9548\n",
      "Epoch 1400/1000 : loss: 3.03511 Val Accuracy: 0.957 Test Accuracy: 0.9543\n",
      "Epoch 1500/1000 : loss: 18.73 Val Accuracy: 0.957 Test Accuracy: 0.9535\n",
      "Epoch 1600/1000 : loss: 3.54905 Val Accuracy: 0.9572 Test Accuracy: 0.9551\n",
      "Epoch 1700/1000 : loss: 2.74434 Val Accuracy: 0.9628 Test Accuracy: 0.957\n",
      "Epoch 1800/1000 : loss: 1.65862 Val Accuracy: 0.9582 Test Accuracy: 0.9553\n",
      "Epoch 1900/1000 : loss: 13.93 Val Accuracy: 0.9626 Test Accuracy: 0.9547\n",
      "Epoch 2000/1000 : loss: 4.9919 Val Accuracy: 0.9566 Test Accuracy: 0.952\n",
      "Epoch 2100/1000 : loss: 3.3576 Val Accuracy: 0.9622 Test Accuracy: 0.9531\n",
      "Epoch 2200/1000 : loss: 2.91901 Val Accuracy: 0.9644 Test Accuracy: 0.9607\n",
      "Epoch 2300/1000 : loss: 5.37046 Val Accuracy: 0.9646 Test Accuracy: 0.9603\n",
      "Epoch 2400/1000 : loss: 1.8369 Val Accuracy: 0.9632 Test Accuracy: 0.9585\n",
      "Epoch 2500/1000 : loss: 1.65651 Val Accuracy: 0.9604 Test Accuracy: 0.9532\n",
      "Epoch 2600/1000 : loss: 14.4745 Val Accuracy: 0.963 Test Accuracy: 0.9607\n",
      "Epoch 2700/1000 : loss: 0.535294 Val Accuracy: 0.9664 Test Accuracy: 0.9546\n",
      "Epoch 2800/1000 : loss: 3.19886 Val Accuracy: 0.9674 Test Accuracy: 0.9625\n",
      "Epoch 2900/1000 : loss: 6.59987 Val Accuracy: 0.965 Test Accuracy: 0.9594\n",
      "Epoch 3000/1000 : loss: 15.8703 Val Accuracy: 0.9646 Test Accuracy: 0.9592\n",
      "Epoch 3100/1000 : loss: 3.20288 Val Accuracy: 0.9628 Test Accuracy: 0.9596\n",
      "Epoch 3200/1000 : loss: 1.81258 Val Accuracy: 0.9668 Test Accuracy: 0.961\n",
      "Epoch 3300/1000 : loss: 4.68878 Val Accuracy: 0.9704 Test Accuracy: 0.9684\n",
      "Epoch 3400/1000 : loss: 1.22403 Val Accuracy: 0.9716 Test Accuracy: 0.9656\n",
      "Epoch 3500/1000 : loss: 6.33896 Val Accuracy: 0.9688 Test Accuracy: 0.9671\n"
     ]
    },
    {
     "ename": "KeyboardInterrupt",
     "evalue": "",
     "output_type": "error",
     "traceback": [
      "\u001b[1;31m---------------------------------------------------------------------------\u001b[0m",
      "\u001b[1;31mKeyboardInterrupt\u001b[0m                         Traceback (most recent call last)",
      "\u001b[1;32m<ipython-input-7-8761e8a90ed7>\u001b[0m in \u001b[0;36m<module>\u001b[1;34m()\u001b[0m\n\u001b[0;32m     19\u001b[0m                 \u001b[0mX_train\u001b[0m\u001b[1;33m,\u001b[0m \u001b[0my_train\u001b[0m \u001b[1;33m=\u001b[0m \u001b[0mmnist\u001b[0m\u001b[1;33m.\u001b[0m\u001b[0mtrain\u001b[0m\u001b[1;33m.\u001b[0m\u001b[0mnext_batch\u001b[0m\u001b[1;33m(\u001b[0m\u001b[0mbatch_size\u001b[0m\u001b[1;33m)\u001b[0m\u001b[1;33m\u001b[0m\u001b[0m\n\u001b[0;32m     20\u001b[0m                 \u001b[0mfeed_dict\u001b[0m \u001b[1;33m=\u001b[0m \u001b[1;33m{\u001b[0m\u001b[0mX\u001b[0m\u001b[1;33m:\u001b[0m \u001b[0mX_train\u001b[0m\u001b[1;33m,\u001b[0m \u001b[0my\u001b[0m\u001b[1;33m:\u001b[0m \u001b[0my_train\u001b[0m\u001b[1;33m}\u001b[0m\u001b[1;33m\u001b[0m\u001b[0m\n\u001b[1;32m---> 21\u001b[1;33m                 \u001b[0m_\u001b[0m\u001b[1;33m,\u001b[0m \u001b[0mtraining_loss\u001b[0m \u001b[1;33m=\u001b[0m \u001b[0msess\u001b[0m\u001b[1;33m.\u001b[0m\u001b[0mrun\u001b[0m\u001b[1;33m(\u001b[0m\u001b[1;33m[\u001b[0m\u001b[0mtrain\u001b[0m\u001b[1;33m,\u001b[0m \u001b[0mloss\u001b[0m\u001b[1;33m]\u001b[0m\u001b[1;33m,\u001b[0m \u001b[0mfeed_dict\u001b[0m\u001b[1;33m=\u001b[0m\u001b[0mfeed_dict\u001b[0m\u001b[1;33m)\u001b[0m\u001b[1;33m\u001b[0m\u001b[0m\n\u001b[0m\u001b[0;32m     22\u001b[0m \u001b[1;33m\u001b[0m\u001b[0m\n\u001b[0;32m     23\u001b[0m                 \u001b[1;32mif\u001b[0m\u001b[1;33m(\u001b[0m\u001b[0mi\u001b[0m \u001b[1;33m%\u001b[0m \u001b[1;36m100\u001b[0m \u001b[1;33m==\u001b[0m \u001b[1;36m0\u001b[0m\u001b[1;33m)\u001b[0m\u001b[1;33m:\u001b[0m\u001b[1;33m\u001b[0m\u001b[0m\n",
      "\u001b[1;32mC:\\Anaconda2\\envs\\py36\\lib\\site-packages\\tensorflow\\python\\client\\session.py\u001b[0m in \u001b[0;36mrun\u001b[1;34m(self, fetches, feed_dict, options, run_metadata)\u001b[0m\n\u001b[0;32m    893\u001b[0m     \u001b[1;32mtry\u001b[0m\u001b[1;33m:\u001b[0m\u001b[1;33m\u001b[0m\u001b[0m\n\u001b[0;32m    894\u001b[0m       result = self._run(None, fetches, feed_dict, options_ptr,\n\u001b[1;32m--> 895\u001b[1;33m                          run_metadata_ptr)\n\u001b[0m\u001b[0;32m    896\u001b[0m       \u001b[1;32mif\u001b[0m \u001b[0mrun_metadata\u001b[0m\u001b[1;33m:\u001b[0m\u001b[1;33m\u001b[0m\u001b[0m\n\u001b[0;32m    897\u001b[0m         \u001b[0mproto_data\u001b[0m \u001b[1;33m=\u001b[0m \u001b[0mtf_session\u001b[0m\u001b[1;33m.\u001b[0m\u001b[0mTF_GetBuffer\u001b[0m\u001b[1;33m(\u001b[0m\u001b[0mrun_metadata_ptr\u001b[0m\u001b[1;33m)\u001b[0m\u001b[1;33m\u001b[0m\u001b[0m\n",
      "\u001b[1;32mC:\\Anaconda2\\envs\\py36\\lib\\site-packages\\tensorflow\\python\\client\\session.py\u001b[0m in \u001b[0;36m_run\u001b[1;34m(self, handle, fetches, feed_dict, options, run_metadata)\u001b[0m\n\u001b[0;32m   1122\u001b[0m     \u001b[1;32mif\u001b[0m \u001b[0mfinal_fetches\u001b[0m \u001b[1;32mor\u001b[0m \u001b[0mfinal_targets\u001b[0m \u001b[1;32mor\u001b[0m \u001b[1;33m(\u001b[0m\u001b[0mhandle\u001b[0m \u001b[1;32mand\u001b[0m \u001b[0mfeed_dict_tensor\u001b[0m\u001b[1;33m)\u001b[0m\u001b[1;33m:\u001b[0m\u001b[1;33m\u001b[0m\u001b[0m\n\u001b[0;32m   1123\u001b[0m       results = self._do_run(handle, final_targets, final_fetches,\n\u001b[1;32m-> 1124\u001b[1;33m                              feed_dict_tensor, options, run_metadata)\n\u001b[0m\u001b[0;32m   1125\u001b[0m     \u001b[1;32melse\u001b[0m\u001b[1;33m:\u001b[0m\u001b[1;33m\u001b[0m\u001b[0m\n\u001b[0;32m   1126\u001b[0m       \u001b[0mresults\u001b[0m \u001b[1;33m=\u001b[0m \u001b[1;33m[\u001b[0m\u001b[1;33m]\u001b[0m\u001b[1;33m\u001b[0m\u001b[0m\n",
      "\u001b[1;32mC:\\Anaconda2\\envs\\py36\\lib\\site-packages\\tensorflow\\python\\client\\session.py\u001b[0m in \u001b[0;36m_do_run\u001b[1;34m(self, handle, target_list, fetch_list, feed_dict, options, run_metadata)\u001b[0m\n\u001b[0;32m   1319\u001b[0m     \u001b[1;32mif\u001b[0m \u001b[0mhandle\u001b[0m \u001b[1;32mis\u001b[0m \u001b[1;32mNone\u001b[0m\u001b[1;33m:\u001b[0m\u001b[1;33m\u001b[0m\u001b[0m\n\u001b[0;32m   1320\u001b[0m       return self._do_call(_run_fn, self._session, feeds, fetches, targets,\n\u001b[1;32m-> 1321\u001b[1;33m                            options, run_metadata)\n\u001b[0m\u001b[0;32m   1322\u001b[0m     \u001b[1;32melse\u001b[0m\u001b[1;33m:\u001b[0m\u001b[1;33m\u001b[0m\u001b[0m\n\u001b[0;32m   1323\u001b[0m       \u001b[1;32mreturn\u001b[0m \u001b[0mself\u001b[0m\u001b[1;33m.\u001b[0m\u001b[0m_do_call\u001b[0m\u001b[1;33m(\u001b[0m\u001b[0m_prun_fn\u001b[0m\u001b[1;33m,\u001b[0m \u001b[0mself\u001b[0m\u001b[1;33m.\u001b[0m\u001b[0m_session\u001b[0m\u001b[1;33m,\u001b[0m \u001b[0mhandle\u001b[0m\u001b[1;33m,\u001b[0m \u001b[0mfeeds\u001b[0m\u001b[1;33m,\u001b[0m \u001b[0mfetches\u001b[0m\u001b[1;33m)\u001b[0m\u001b[1;33m\u001b[0m\u001b[0m\n",
      "\u001b[1;32mC:\\Anaconda2\\envs\\py36\\lib\\site-packages\\tensorflow\\python\\client\\session.py\u001b[0m in \u001b[0;36m_do_call\u001b[1;34m(self, fn, *args)\u001b[0m\n\u001b[0;32m   1325\u001b[0m   \u001b[1;32mdef\u001b[0m \u001b[0m_do_call\u001b[0m\u001b[1;33m(\u001b[0m\u001b[0mself\u001b[0m\u001b[1;33m,\u001b[0m \u001b[0mfn\u001b[0m\u001b[1;33m,\u001b[0m \u001b[1;33m*\u001b[0m\u001b[0margs\u001b[0m\u001b[1;33m)\u001b[0m\u001b[1;33m:\u001b[0m\u001b[1;33m\u001b[0m\u001b[0m\n\u001b[0;32m   1326\u001b[0m     \u001b[1;32mtry\u001b[0m\u001b[1;33m:\u001b[0m\u001b[1;33m\u001b[0m\u001b[0m\n\u001b[1;32m-> 1327\u001b[1;33m       \u001b[1;32mreturn\u001b[0m \u001b[0mfn\u001b[0m\u001b[1;33m(\u001b[0m\u001b[1;33m*\u001b[0m\u001b[0margs\u001b[0m\u001b[1;33m)\u001b[0m\u001b[1;33m\u001b[0m\u001b[0m\n\u001b[0m\u001b[0;32m   1328\u001b[0m     \u001b[1;32mexcept\u001b[0m \u001b[0merrors\u001b[0m\u001b[1;33m.\u001b[0m\u001b[0mOpError\u001b[0m \u001b[1;32mas\u001b[0m \u001b[0me\u001b[0m\u001b[1;33m:\u001b[0m\u001b[1;33m\u001b[0m\u001b[0m\n\u001b[0;32m   1329\u001b[0m       \u001b[0mmessage\u001b[0m \u001b[1;33m=\u001b[0m \u001b[0mcompat\u001b[0m\u001b[1;33m.\u001b[0m\u001b[0mas_text\u001b[0m\u001b[1;33m(\u001b[0m\u001b[0me\u001b[0m\u001b[1;33m.\u001b[0m\u001b[0mmessage\u001b[0m\u001b[1;33m)\u001b[0m\u001b[1;33m\u001b[0m\u001b[0m\n",
      "\u001b[1;32mC:\\Anaconda2\\envs\\py36\\lib\\site-packages\\tensorflow\\python\\client\\session.py\u001b[0m in \u001b[0;36m_run_fn\u001b[1;34m(session, feed_dict, fetch_list, target_list, options, run_metadata)\u001b[0m\n\u001b[0;32m   1304\u001b[0m           return tf_session.TF_Run(session, options,\n\u001b[0;32m   1305\u001b[0m                                    \u001b[0mfeed_dict\u001b[0m\u001b[1;33m,\u001b[0m \u001b[0mfetch_list\u001b[0m\u001b[1;33m,\u001b[0m \u001b[0mtarget_list\u001b[0m\u001b[1;33m,\u001b[0m\u001b[1;33m\u001b[0m\u001b[0m\n\u001b[1;32m-> 1306\u001b[1;33m                                    status, run_metadata)\n\u001b[0m\u001b[0;32m   1307\u001b[0m \u001b[1;33m\u001b[0m\u001b[0m\n\u001b[0;32m   1308\u001b[0m     \u001b[1;32mdef\u001b[0m \u001b[0m_prun_fn\u001b[0m\u001b[1;33m(\u001b[0m\u001b[0msession\u001b[0m\u001b[1;33m,\u001b[0m \u001b[0mhandle\u001b[0m\u001b[1;33m,\u001b[0m \u001b[0mfeed_dict\u001b[0m\u001b[1;33m,\u001b[0m \u001b[0mfetch_list\u001b[0m\u001b[1;33m)\u001b[0m\u001b[1;33m:\u001b[0m\u001b[1;33m\u001b[0m\u001b[0m\n",
      "\u001b[1;31mKeyboardInterrupt\u001b[0m: "
     ]
    }
   ],
   "source": [
    "with tf.Graph().as_default():\n",
    "    X = tf.placeholder(dtype=tf.float32, shape = (None, 784))\n",
    "    y = tf.placeholder(dtype=tf.float32, shape = (None, 10))\n",
    "    \n",
    "    train, pred, out, loss, accuracy = model(X,y)\n",
    "    \n",
    "    summary = tf.summary.merge_all()\n",
    "    \n",
    "    epochs = 1000\n",
    "    batch_size = 100\n",
    "\n",
    "    with tf.Session() as sess:\n",
    "        \n",
    "        summary_writer = tf.summary.FileWriter('/tmp/train_data', sess.graph)\n",
    "        \n",
    "        sess.run(tf.global_variables_initializer())\n",
    "    \n",
    "        for i in range(epochs * int(mnist.train.num_examples/batch_size)):\n",
    "                X_train, y_train = mnist.train.next_batch(batch_size)\n",
    "                feed_dict = {X: X_train, y: y_train}\n",
    "                _, training_loss = sess.run([train, loss], feed_dict=feed_dict)\n",
    "                \n",
    "                if(i % 100 == 0):\n",
    "                    \n",
    "                    acc = accuracy.eval({X: mnist.validation.images, y: mnist.validation.labels})\n",
    "                    test_acc = accuracy.eval({X: mnist.test.images, y: mnist.test.labels})\n",
    "                    \n",
    "                    print('Epoch', str(i) + '/' + str(epochs), ': loss:', training_loss, 'Val Accuracy:', acc, 'Test Accuracy:', test_acc)\n",
    "                    summary_str = sess.run(summary, feed_dict=feed_dict)\n",
    "                    summary_writer.add_summary(summary_str, i)\n",
    "                    summary_writer.flush()\n",
    "                    "
   ]
  },
  {
   "cell_type": "code",
   "execution_count": null,
   "metadata": {},
   "outputs": [],
   "source": [
    "np.shape(mnist.validation.labels)"
   ]
  },
  {
   "cell_type": "code",
   "execution_count": null,
   "metadata": {
    "collapsed": true
   },
   "outputs": [],
   "source": [
    "import tensorboard.main\n"
   ]
  }
 ],
 "metadata": {
  "kernelspec": {
   "display_name": "Python 3",
   "language": "python",
   "name": "python3"
  },
  "language_info": {
   "codemirror_mode": {
    "name": "ipython",
    "version": 3
   },
   "file_extension": ".py",
   "mimetype": "text/x-python",
   "name": "python",
   "nbconvert_exporter": "python",
   "pygments_lexer": "ipython3",
   "version": "3.6.1"
  }
 },
 "nbformat": 4,
 "nbformat_minor": 2
}
